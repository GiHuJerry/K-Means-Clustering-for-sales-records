{
 "cells": [
  {
   "cell_type": "markdown",
   "metadata": {},
   "source": [
    "# Aim\n",
    "Apart from using Naive Bayes model for categorical data. Here we use K-Means Cluster model to determine and divide Product categoryies into four levels from High profit to low profit."
   ]
  },
  {
   "cell_type": "code",
   "execution_count": 12,
   "metadata": {},
   "outputs": [],
   "source": [
    "import pandas as pd\n",
    "from pandas import Series, DataFrame\n",
    "import numpy as np\n",
    "import matplotlib.pyplot as plt\n",
    "import seaborn as sns\n",
    "%matplotlib inline"
   ]
  },
  {
   "cell_type": "markdown",
   "metadata": {},
   "source": [
    "##### 1. Load dataset"
   ]
  },
  {
   "cell_type": "code",
   "execution_count": 13,
   "metadata": {},
   "outputs": [
    {
     "data": {
      "text/html": [
       "<div>\n",
       "<style scoped>\n",
       "    .dataframe tbody tr th:only-of-type {\n",
       "        vertical-align: middle;\n",
       "    }\n",
       "\n",
       "    .dataframe tbody tr th {\n",
       "        vertical-align: top;\n",
       "    }\n",
       "\n",
       "    .dataframe thead th {\n",
       "        text-align: right;\n",
       "    }\n",
       "</style>\n",
       "<table border=\"1\" class=\"dataframe\">\n",
       "  <thead>\n",
       "    <tr style=\"text-align: right;\">\n",
       "      <th></th>\n",
       "      <th>row</th>\n",
       "      <th>order_priority</th>\n",
       "      <th>order_date</th>\n",
       "      <th>order_id</th>\n",
       "      <th>discount</th>\n",
       "      <th>unit_price</th>\n",
       "      <th>order_quantity</th>\n",
       "      <th>sales</th>\n",
       "      <th>shipping_cost</th>\n",
       "      <th>product_base_margin</th>\n",
       "      <th>...</th>\n",
       "      <th>city</th>\n",
       "      <th>postal_code</th>\n",
       "      <th>ship_date</th>\n",
       "      <th>ship_mode</th>\n",
       "      <th>subregion</th>\n",
       "      <th>new_order_date</th>\n",
       "      <th>year_order_date</th>\n",
       "      <th>new_discount</th>\n",
       "      <th>new_margin</th>\n",
       "      <th>profit</th>\n",
       "    </tr>\n",
       "  </thead>\n",
       "  <tbody>\n",
       "    <tr>\n",
       "      <th>0</th>\n",
       "      <td>3689</td>\n",
       "      <td>Medium</td>\n",
       "      <td>28/01/2011</td>\n",
       "      <td>97</td>\n",
       "      <td>3%</td>\n",
       "      <td>3.0</td>\n",
       "      <td>26</td>\n",
       "      <td>75.66</td>\n",
       "      <td>1.0</td>\n",
       "      <td>38.0%</td>\n",
       "      <td>...</td>\n",
       "      <td>Jakarta</td>\n",
       "      <td>NaN</td>\n",
       "      <td>29/01/2011</td>\n",
       "      <td>Regular Air</td>\n",
       "      <td>NaN</td>\n",
       "      <td>2011-01-28</td>\n",
       "      <td>2011</td>\n",
       "      <td>0.03</td>\n",
       "      <td>0.38</td>\n",
       "      <td>26.3</td>\n",
       "    </tr>\n",
       "  </tbody>\n",
       "</table>\n",
       "<p>1 rows × 30 columns</p>\n",
       "</div>"
      ],
      "text/plain": [
       "    row order_priority  order_date  order_id discount  unit_price  \\\n",
       "0  3689         Medium  28/01/2011        97       3%         3.0   \n",
       "\n",
       "   order_quantity  sales  shipping_cost product_base_margin  ...     city  \\\n",
       "0              26  75.66            1.0               38.0%  ...  Jakarta   \n",
       "\n",
       "  postal_code   ship_date    ship_mode subregion  new_order_date  \\\n",
       "0         NaN  29/01/2011  Regular Air       NaN      2011-01-28   \n",
       "\n",
       "  year_order_date new_discount new_margin profit  \n",
       "0            2011         0.03       0.38   26.3  \n",
       "\n",
       "[1 rows x 30 columns]"
      ]
     },
     "execution_count": 13,
     "metadata": {},
     "output_type": "execute_result"
    }
   ],
   "source": [
    "Orders = pd.read_csv('Orders_1.csv')\n",
    "Orders.head(1)"
   ]
  },
  {
   "cell_type": "markdown",
   "metadata": {},
   "source": [
    "##### 2. Prepare data for this analysis\n",
    "a. select the columns needed\n",
    "b. work out total sum and profit by categories for K-Means Cluster analysis"
   ]
  },
  {
   "cell_type": "code",
   "execution_count": 14,
   "metadata": {},
   "outputs": [
    {
     "data": {
      "text/html": [
       "<div>\n",
       "<style scoped>\n",
       "    .dataframe tbody tr th:only-of-type {\n",
       "        vertical-align: middle;\n",
       "    }\n",
       "\n",
       "    .dataframe tbody tr th {\n",
       "        vertical-align: top;\n",
       "    }\n",
       "\n",
       "    .dataframe thead th {\n",
       "        text-align: right;\n",
       "    }\n",
       "</style>\n",
       "<table border=\"1\" class=\"dataframe\">\n",
       "  <thead>\n",
       "    <tr style=\"text-align: right;\">\n",
       "      <th></th>\n",
       "      <th>category</th>\n",
       "      <th>sales</th>\n",
       "      <th>profit</th>\n",
       "    </tr>\n",
       "  </thead>\n",
       "  <tbody>\n",
       "    <tr>\n",
       "      <th>0</th>\n",
       "      <td>Labels</td>\n",
       "      <td>75.66</td>\n",
       "      <td>26.30</td>\n",
       "    </tr>\n",
       "    <tr>\n",
       "      <th>1</th>\n",
       "      <td>Chairs &amp; Chairmats</td>\n",
       "      <td>5587.00</td>\n",
       "      <td>4241.99</td>\n",
       "    </tr>\n",
       "    <tr>\n",
       "      <th>2</th>\n",
       "      <td>Scissors, Rulers and Trimmers</td>\n",
       "      <td>3.96</td>\n",
       "      <td>-0.84</td>\n",
       "    </tr>\n",
       "  </tbody>\n",
       "</table>\n",
       "</div>"
      ],
      "text/plain": [
       "                        category    sales   profit\n",
       "0                         Labels    75.66    26.30\n",
       "1             Chairs & Chairmats  5587.00  4241.99\n",
       "2  Scissors, Rulers and Trimmers     3.96    -0.84"
      ]
     },
     "execution_count": 14,
     "metadata": {},
     "output_type": "execute_result"
    }
   ],
   "source": [
    "new_tab= Orders[['category','sales','profit']]\n",
    "new_tab.head(3)"
   ]
  },
  {
   "cell_type": "code",
   "execution_count": 15,
   "metadata": {},
   "outputs": [
    {
     "data": {
      "text/html": [
       "<div>\n",
       "<style scoped>\n",
       "    .dataframe tbody tr th:only-of-type {\n",
       "        vertical-align: middle;\n",
       "    }\n",
       "\n",
       "    .dataframe tbody tr th {\n",
       "        vertical-align: top;\n",
       "    }\n",
       "\n",
       "    .dataframe thead th {\n",
       "        text-align: right;\n",
       "    }\n",
       "</style>\n",
       "<table border=\"1\" class=\"dataframe\">\n",
       "  <thead>\n",
       "    <tr style=\"text-align: right;\">\n",
       "      <th></th>\n",
       "      <th>sales</th>\n",
       "      <th>profit</th>\n",
       "    </tr>\n",
       "    <tr>\n",
       "      <th>category</th>\n",
       "      <th></th>\n",
       "      <th></th>\n",
       "    </tr>\n",
       "  </thead>\n",
       "  <tbody>\n",
       "    <tr>\n",
       "      <th>Appliances</th>\n",
       "      <td>36175.94</td>\n",
       "      <td>18474.52</td>\n",
       "    </tr>\n",
       "    <tr>\n",
       "      <th>Binders and Binder Accessories</th>\n",
       "      <td>14160.28</td>\n",
       "      <td>4632.58</td>\n",
       "    </tr>\n",
       "    <tr>\n",
       "      <th>Bookcases</th>\n",
       "      <td>53573.90</td>\n",
       "      <td>33694.52</td>\n",
       "    </tr>\n",
       "  </tbody>\n",
       "</table>\n",
       "</div>"
      ],
      "text/plain": [
       "                                   sales    profit\n",
       "category                                          \n",
       "Appliances                      36175.94  18474.52\n",
       "Binders and Binder Accessories  14160.28   4632.58\n",
       "Bookcases                       53573.90  33694.52"
      ]
     },
     "execution_count": 15,
     "metadata": {},
     "output_type": "execute_result"
    }
   ],
   "source": [
    "new_tab_1 = DataFrame(new_tab.groupby('category')['sales'].sum())\n",
    "new_tab_1['profit'] = new_tab.groupby('category')['profit'].sum()\n",
    "new_tab_1.head(3)"
   ]
  },
  {
   "cell_type": "markdown",
   "metadata": {},
   "source": [
    "##### 3. Apply K-Means Cluster model"
   ]
  },
  {
   "cell_type": "code",
   "execution_count": 16,
   "metadata": {},
   "outputs": [],
   "source": [
    "# import K-means from Sklearn.cluster\n",
    "from sklearn.cluster import KMeans"
   ]
  },
  {
   "cell_type": "code",
   "execution_count": 17,
   "metadata": {},
   "outputs": [
    {
     "name": "stdout",
     "output_type": "stream",
     "text": [
      "[[ 9354.76    4279.732 ]\n",
      " [33482.212  18099.41  ]\n",
      " [61031.12   35772.58  ]\n",
      " [  844.7575   350.5625]]\n",
      "{0: 5, 1: 5, 2: 2, 3: 4}\n"
     ]
    }
   ],
   "source": [
    "# create an instance of K-means model with 4 clusters such that it becomes easier to call the same later\n",
    "# let's now try to split clusters into 4 clusters \n",
    "K_means_4 = KMeans(n_clusters=4)\n",
    "df_analyze = new_tab_1\n",
    "K_means_4.fit(new_tab_1)\n",
    "\n",
    "\n",
    "print(K_means_4.cluster_centers_)\n",
    "unique, counts = np.unique(K_means_4.labels_, return_counts=True)\n",
    "\n",
    "K_means_4.cluster_centers_\n",
    "print(dict(zip(unique,counts)))"
   ]
  },
  {
   "cell_type": "code",
   "execution_count": 18,
   "metadata": {},
   "outputs": [
    {
     "name": "stderr",
     "output_type": "stream",
     "text": [
      "/Users/Jerry/opt/anaconda3/lib/python3.7/site-packages/seaborn/_decorators.py:43: FutureWarning: Pass the following variables as keyword args: x, y. From version 0.12, the only valid positional argument will be `data`, and passing other arguments without an explicit keyword will result in an error or misinterpretation.\n",
      "  FutureWarning\n",
      "/Users/Jerry/opt/anaconda3/lib/python3.7/site-packages/seaborn/regression.py:580: UserWarning: The `size` parameter has been renamed to `height`; please update your code.\n",
      "  warnings.warn(msg, UserWarning)\n"
     ]
    },
    {
     "data": {
      "text/plain": [
       "<seaborn.axisgrid.FacetGrid at 0x7fe0ee38b990>"
      ]
     },
     "execution_count": 18,
     "metadata": {},
     "output_type": "execute_result"
    },
    {
     "data": {
      "image/png": "[encoded data removed]",
      "text/plain": [
       "<Figure size 475.25x432 with 1 Axes>"
      ]
     },
     "metadata": {},
     "output_type": "display_data"
    }
   ],
   "source": [
    "# Plot the result of K-Means Cluster\n",
    "new_tab_1['predicts']=K_means_4.labels_\n",
    "sns.set_style('whitegrid')\n",
    "sns.lmplot ('sales','profit', data=new_tab_1\n",
    "           ,hue ='predicts', palette='rainbow', size=6, aspect=1,fit_reg=False)"
   ]
  },
  {
   "cell_type": "code",
   "execution_count": 19,
   "metadata": {},
   "outputs": [
    {
     "data": {
      "text/plain": [
       "<matplotlib.collections.PathCollection at 0x7fe0ee4f3e50>"
      ]
     },
     "execution_count": 19,
     "metadata": {},
     "output_type": "execute_result"
    },
    {
     "data": {
      "image/png": "[encoded data removed]",
      "text/plain": [
       "<Figure size 720x432 with 2 Axes>"
      ]
     },
     "metadata": {},
     "output_type": "display_data"
    }
   ],
   "source": [
    "# Plot the result of K-Means Cluster\n",
    "f, (ax1, ax2) = plt.subplots(1, 2, sharey=True,figsize=(10,6))\n",
    "ax1.set_title('K Means')\n",
    "ax1.scatter(new_tab_1['sales'],new_tab_1['profit'],c=K_means_4.labels_,cmap='rainbow')\n",
    "ax2.set_title(\"Original\")\n",
    "ax2.scatter(new_tab_1['sales'],new_tab_1['profit'])"
   ]
  },
  {
   "cell_type": "markdown",
   "metadata": {},
   "source": [
    "##### 4. Incooperate K-Means Cluster analysis result into a table "
   ]
  },
  {
   "cell_type": "code",
   "execution_count": 20,
   "metadata": {},
   "outputs": [
    {
     "data": {
      "text/html": [
       "<div>\n",
       "<style scoped>\n",
       "    .dataframe tbody tr th:only-of-type {\n",
       "        vertical-align: middle;\n",
       "    }\n",
       "\n",
       "    .dataframe tbody tr th {\n",
       "        vertical-align: top;\n",
       "    }\n",
       "\n",
       "    .dataframe thead th {\n",
       "        text-align: right;\n",
       "    }\n",
       "</style>\n",
       "<table border=\"1\" class=\"dataframe\">\n",
       "  <thead>\n",
       "    <tr style=\"text-align: right;\">\n",
       "      <th></th>\n",
       "      <th>sales</th>\n",
       "      <th>profit</th>\n",
       "      <th>predicts</th>\n",
       "    </tr>\n",
       "    <tr>\n",
       "      <th>category</th>\n",
       "      <th></th>\n",
       "      <th></th>\n",
       "      <th></th>\n",
       "    </tr>\n",
       "  </thead>\n",
       "  <tbody>\n",
       "    <tr>\n",
       "      <th>Appliances</th>\n",
       "      <td>36175.94</td>\n",
       "      <td>18474.52</td>\n",
       "      <td>1</td>\n",
       "    </tr>\n",
       "    <tr>\n",
       "      <th>Binders and Binder Accessories</th>\n",
       "      <td>14160.28</td>\n",
       "      <td>4632.58</td>\n",
       "      <td>0</td>\n",
       "    </tr>\n",
       "    <tr>\n",
       "      <th>Bookcases</th>\n",
       "      <td>53573.90</td>\n",
       "      <td>33694.52</td>\n",
       "      <td>2</td>\n",
       "    </tr>\n",
       "    <tr>\n",
       "      <th>Chairs &amp; Chairmats</th>\n",
       "      <td>9020.23</td>\n",
       "      <td>6064.41</td>\n",
       "      <td>0</td>\n",
       "    </tr>\n",
       "    <tr>\n",
       "      <th>Computer Peripherals</th>\n",
       "      <td>9614.81</td>\n",
       "      <td>4757.31</td>\n",
       "      <td>0</td>\n",
       "    </tr>\n",
       "    <tr>\n",
       "      <th>Envelopes</th>\n",
       "      <td>1343.92</td>\n",
       "      <td>455.46</td>\n",
       "      <td>3</td>\n",
       "    </tr>\n",
       "    <tr>\n",
       "      <th>Labels</th>\n",
       "      <td>343.74</td>\n",
       "      <td>116.31</td>\n",
       "      <td>3</td>\n",
       "    </tr>\n",
       "    <tr>\n",
       "      <th>Office Furnishings</th>\n",
       "      <td>29249.65</td>\n",
       "      <td>18167.68</td>\n",
       "      <td>1</td>\n",
       "    </tr>\n",
       "    <tr>\n",
       "      <th>Office Machines</th>\n",
       "      <td>27759.85</td>\n",
       "      <td>9603.53</td>\n",
       "      <td>1</td>\n",
       "    </tr>\n",
       "    <tr>\n",
       "      <th>Paper</th>\n",
       "      <td>5905.07</td>\n",
       "      <td>1950.78</td>\n",
       "      <td>0</td>\n",
       "    </tr>\n",
       "    <tr>\n",
       "      <th>Pens &amp; Art Supplies</th>\n",
       "      <td>8073.41</td>\n",
       "      <td>3993.58</td>\n",
       "      <td>0</td>\n",
       "    </tr>\n",
       "    <tr>\n",
       "      <th>Rubber Bands</th>\n",
       "      <td>809.28</td>\n",
       "      <td>336.95</td>\n",
       "      <td>3</td>\n",
       "    </tr>\n",
       "    <tr>\n",
       "      <th>Scissors, Rulers and Trimmers</th>\n",
       "      <td>882.09</td>\n",
       "      <td>493.53</td>\n",
       "      <td>3</td>\n",
       "    </tr>\n",
       "    <tr>\n",
       "      <th>Storage &amp; Organization</th>\n",
       "      <td>32377.88</td>\n",
       "      <td>18551.29</td>\n",
       "      <td>1</td>\n",
       "    </tr>\n",
       "    <tr>\n",
       "      <th>Tables</th>\n",
       "      <td>41847.74</td>\n",
       "      <td>25700.03</td>\n",
       "      <td>1</td>\n",
       "    </tr>\n",
       "    <tr>\n",
       "      <th>Telephones and Communication</th>\n",
       "      <td>68488.34</td>\n",
       "      <td>37850.64</td>\n",
       "      <td>2</td>\n",
       "    </tr>\n",
       "  </tbody>\n",
       "</table>\n",
       "</div>"
      ],
      "text/plain": [
       "                                   sales    profit  predicts\n",
       "category                                                    \n",
       "Appliances                      36175.94  18474.52         1\n",
       "Binders and Binder Accessories  14160.28   4632.58         0\n",
       "Bookcases                       53573.90  33694.52         2\n",
       "Chairs & Chairmats               9020.23   6064.41         0\n",
       "Computer Peripherals             9614.81   4757.31         0\n",
       "Envelopes                        1343.92    455.46         3\n",
       "Labels                            343.74    116.31         3\n",
       "Office Furnishings              29249.65  18167.68         1\n",
       "Office Machines                 27759.85   9603.53         1\n",
       "Paper                            5905.07   1950.78         0\n",
       "Pens & Art Supplies              8073.41   3993.58         0\n",
       "Rubber Bands                      809.28    336.95         3\n",
       "Scissors, Rulers and Trimmers     882.09    493.53         3\n",
       "Storage & Organization          32377.88  18551.29         1\n",
       "Tables                          41847.74  25700.03         1\n",
       "Telephones and Communication    68488.34  37850.64         2"
      ]
     },
     "execution_count": 20,
     "metadata": {},
     "output_type": "execute_result"
    }
   ],
   "source": [
    "new_tab_1"
   ]
  },
  {
   "cell_type": "code",
   "execution_count": 21,
   "metadata": {},
   "outputs": [
    {
     "data": {
      "text/html": [
       "<div>\n",
       "<style scoped>\n",
       "    .dataframe tbody tr th:only-of-type {\n",
       "        vertical-align: middle;\n",
       "    }\n",
       "\n",
       "    .dataframe tbody tr th {\n",
       "        vertical-align: top;\n",
       "    }\n",
       "\n",
       "    .dataframe thead th {\n",
       "        text-align: right;\n",
       "    }\n",
       "</style>\n",
       "<table border=\"1\" class=\"dataframe\">\n",
       "  <thead>\n",
       "    <tr style=\"text-align: right;\">\n",
       "      <th></th>\n",
       "      <th>sales</th>\n",
       "      <th>profit</th>\n",
       "      <th>predicts</th>\n",
       "    </tr>\n",
       "    <tr>\n",
       "      <th>category</th>\n",
       "      <th></th>\n",
       "      <th></th>\n",
       "      <th></th>\n",
       "    </tr>\n",
       "  </thead>\n",
       "  <tbody>\n",
       "    <tr>\n",
       "      <th>Binders and Binder Accessories</th>\n",
       "      <td>14160.28</td>\n",
       "      <td>4632.58</td>\n",
       "      <td>0</td>\n",
       "    </tr>\n",
       "    <tr>\n",
       "      <th>Chairs &amp; Chairmats</th>\n",
       "      <td>9020.23</td>\n",
       "      <td>6064.41</td>\n",
       "      <td>0</td>\n",
       "    </tr>\n",
       "    <tr>\n",
       "      <th>Computer Peripherals</th>\n",
       "      <td>9614.81</td>\n",
       "      <td>4757.31</td>\n",
       "      <td>0</td>\n",
       "    </tr>\n",
       "  </tbody>\n",
       "</table>\n",
       "</div>"
      ],
      "text/plain": [
       "                                   sales   profit  predicts\n",
       "category                                                   \n",
       "Binders and Binder Accessories  14160.28  4632.58         0\n",
       "Chairs & Chairmats               9020.23  6064.41         0\n",
       "Computer Peripherals             9614.81  4757.31         0"
      ]
     },
     "execution_count": 21,
     "metadata": {},
     "output_type": "execute_result"
    }
   ],
   "source": [
    "new_tab_1.sort_values('predicts',ascending=True,inplace=True)\n",
    "new_tab_1.head(3)"
   ]
  },
  {
   "cell_type": "code",
   "execution_count": 22,
   "metadata": {},
   "outputs": [
    {
     "data": {
      "text/html": [
       "<div>\n",
       "<style scoped>\n",
       "    .dataframe tbody tr th:only-of-type {\n",
       "        vertical-align: middle;\n",
       "    }\n",
       "\n",
       "    .dataframe tbody tr th {\n",
       "        vertical-align: top;\n",
       "    }\n",
       "\n",
       "    .dataframe thead th {\n",
       "        text-align: right;\n",
       "    }\n",
       "</style>\n",
       "<table border=\"1\" class=\"dataframe\">\n",
       "  <thead>\n",
       "    <tr style=\"text-align: right;\">\n",
       "      <th></th>\n",
       "      <th>sales</th>\n",
       "      <th>profit</th>\n",
       "      <th>predicts</th>\n",
       "      <th>Definition</th>\n",
       "    </tr>\n",
       "    <tr>\n",
       "      <th>category</th>\n",
       "      <th></th>\n",
       "      <th></th>\n",
       "      <th></th>\n",
       "      <th></th>\n",
       "    </tr>\n",
       "  </thead>\n",
       "  <tbody>\n",
       "    <tr>\n",
       "      <th>Binders and Binder Accessories</th>\n",
       "      <td>14160.28</td>\n",
       "      <td>4632.58</td>\n",
       "      <td>0</td>\n",
       "      <td>Medium</td>\n",
       "    </tr>\n",
       "    <tr>\n",
       "      <th>Chairs &amp; Chairmats</th>\n",
       "      <td>9020.23</td>\n",
       "      <td>6064.41</td>\n",
       "      <td>0</td>\n",
       "      <td>Medium</td>\n",
       "    </tr>\n",
       "    <tr>\n",
       "      <th>Computer Peripherals</th>\n",
       "      <td>9614.81</td>\n",
       "      <td>4757.31</td>\n",
       "      <td>0</td>\n",
       "      <td>Medium</td>\n",
       "    </tr>\n",
       "    <tr>\n",
       "      <th>Paper</th>\n",
       "      <td>5905.07</td>\n",
       "      <td>1950.78</td>\n",
       "      <td>0</td>\n",
       "      <td>Medium</td>\n",
       "    </tr>\n",
       "    <tr>\n",
       "      <th>Pens &amp; Art Supplies</th>\n",
       "      <td>8073.41</td>\n",
       "      <td>3993.58</td>\n",
       "      <td>0</td>\n",
       "      <td>Medium</td>\n",
       "    </tr>\n",
       "    <tr>\n",
       "      <th>Appliances</th>\n",
       "      <td>36175.94</td>\n",
       "      <td>18474.52</td>\n",
       "      <td>1</td>\n",
       "      <td>Low</td>\n",
       "    </tr>\n",
       "    <tr>\n",
       "      <th>Office Furnishings</th>\n",
       "      <td>29249.65</td>\n",
       "      <td>18167.68</td>\n",
       "      <td>1</td>\n",
       "      <td>Low</td>\n",
       "    </tr>\n",
       "    <tr>\n",
       "      <th>Office Machines</th>\n",
       "      <td>27759.85</td>\n",
       "      <td>9603.53</td>\n",
       "      <td>1</td>\n",
       "      <td>Low</td>\n",
       "    </tr>\n",
       "    <tr>\n",
       "      <th>Storage &amp; Organization</th>\n",
       "      <td>32377.88</td>\n",
       "      <td>18551.29</td>\n",
       "      <td>1</td>\n",
       "      <td>Low</td>\n",
       "    </tr>\n",
       "    <tr>\n",
       "      <th>Tables</th>\n",
       "      <td>41847.74</td>\n",
       "      <td>25700.03</td>\n",
       "      <td>1</td>\n",
       "      <td>Low</td>\n",
       "    </tr>\n",
       "    <tr>\n",
       "      <th>Bookcases</th>\n",
       "      <td>53573.90</td>\n",
       "      <td>33694.52</td>\n",
       "      <td>2</td>\n",
       "      <td>High</td>\n",
       "    </tr>\n",
       "    <tr>\n",
       "      <th>Telephones and Communication</th>\n",
       "      <td>68488.34</td>\n",
       "      <td>37850.64</td>\n",
       "      <td>2</td>\n",
       "      <td>High</td>\n",
       "    </tr>\n",
       "    <tr>\n",
       "      <th>Envelopes</th>\n",
       "      <td>1343.92</td>\n",
       "      <td>455.46</td>\n",
       "      <td>3</td>\n",
       "      <td>poor</td>\n",
       "    </tr>\n",
       "    <tr>\n",
       "      <th>Labels</th>\n",
       "      <td>343.74</td>\n",
       "      <td>116.31</td>\n",
       "      <td>3</td>\n",
       "      <td>poor</td>\n",
       "    </tr>\n",
       "    <tr>\n",
       "      <th>Rubber Bands</th>\n",
       "      <td>809.28</td>\n",
       "      <td>336.95</td>\n",
       "      <td>3</td>\n",
       "      <td>poor</td>\n",
       "    </tr>\n",
       "    <tr>\n",
       "      <th>Scissors, Rulers and Trimmers</th>\n",
       "      <td>882.09</td>\n",
       "      <td>493.53</td>\n",
       "      <td>3</td>\n",
       "      <td>poor</td>\n",
       "    </tr>\n",
       "  </tbody>\n",
       "</table>\n",
       "</div>"
      ],
      "text/plain": [
       "                                   sales    profit  predicts Definition\n",
       "category                                                               \n",
       "Binders and Binder Accessories  14160.28   4632.58         0     Medium\n",
       "Chairs & Chairmats               9020.23   6064.41         0     Medium\n",
       "Computer Peripherals             9614.81   4757.31         0     Medium\n",
       "Paper                            5905.07   1950.78         0     Medium\n",
       "Pens & Art Supplies              8073.41   3993.58         0     Medium\n",
       "Appliances                      36175.94  18474.52         1        Low\n",
       "Office Furnishings              29249.65  18167.68         1        Low\n",
       "Office Machines                 27759.85   9603.53         1        Low\n",
       "Storage & Organization          32377.88  18551.29         1        Low\n",
       "Tables                          41847.74  25700.03         1        Low\n",
       "Bookcases                       53573.90  33694.52         2       High\n",
       "Telephones and Communication    68488.34  37850.64         2       High\n",
       "Envelopes                        1343.92    455.46         3       poor\n",
       "Labels                            343.74    116.31         3       poor\n",
       "Rubber Bands                      809.28    336.95         3       poor\n",
       "Scissors, Rulers and Trimmers     882.09    493.53         3       poor"
      ]
     },
     "execution_count": 22,
     "metadata": {},
     "output_type": "execute_result"
    }
   ],
   "source": [
    "# Completion of the table with K-Means Cluster analysis result. See 'Definition' column for level of profits\n",
    "new_tab_1['Definition']  = new_tab_1['predicts'].replace({0:'Medium',1:'Low', 2:'High', 3:'poor'})\n",
    "new_tab_1"
   ]
  },
  {
   "cell_type": "markdown",
   "metadata": {},
   "source": [
    "# Conclusion\n",
    "K-Means Cluster model has automatically divide profits into four levels from High to low. The result is clealry show in the plot as well as in the newly created table. \n",
    "This will help sales team to decide how to allocate their resourse to create more profits. "
   ]
  }
 ],
 "metadata": {
  "kernelspec": {
   "display_name": "Python 3 (ipykernel)",
   "language": "python",
   "name": "python3"
  },
  "language_info": {
   "codemirror_mode": {
    "name": "ipython",
    "version": 3
   },
   "file_extension": ".py",
   "mimetype": "text/x-python",
   "name": "python",
   "nbconvert_exporter": "python",
   "pygments_lexer": "ipython3",
   "version": "3.7.6"
  }
 },
 "nbformat": 4,
 "nbformat_minor": 4
}
